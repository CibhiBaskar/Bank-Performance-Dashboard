{
 "cells": [
  {
   "cell_type": "code",
   "execution_count": 1,
   "metadata": {},
   "outputs": [],
   "source": [
    "from flask import Flask, request, url_for, redirect, render_template, jsonify, make_response, session\n",
    "from flask_mysqldb import MySQL\n",
    "import MySQLdb.cursors\n",
    "import numpy as np\n",
    "import re"
   ]
  },
  {
   "cell_type": "code",
   "execution_count": 2,
   "metadata": {},
   "outputs": [],
   "source": [
    "app = Flask(__name__)\n",
    "\n",
    "# Secret key (security)\n",
    "app.secret_key = 'performancedashboard'\n",
    "\n",
    "# Database connection details below\n",
    "app.config['MYSQL_HOST'] = 'localhost'\n",
    "app.config['MYSQL_USER'] = 'root'\n",
    "app.config['MYSQL_PASSWORD'] = 'Appu@05022000'\n",
    "app.config['MYSQL_DB'] = 'bank'\n",
    "\n",
    "# Intialize MySQL\n",
    "mysql = MySQL(app)"
   ]
  },
  {
   "cell_type": "code",
   "execution_count": 3,
   "metadata": {},
   "outputs": [],
   "source": [
    "# http://localhost:5000/pythonlogin/ - this will be the login page, we need to use both GET and POST requests\n",
    "\n",
    "@app.route('/', methods=['GET', 'POST'])\n",
    "def login():\n",
    "    # Output message if something goes wrong...\n",
    "    msg = ''\n",
    "    # Check if \"username\" and \"password\" POST requests exist (user submitted form)\n",
    "    if request.method == 'POST' and 'username' in request.form and 'password' in request.form:\n",
    "        # Create variables for easy access\n",
    "        username = request.form['username']\n",
    "        password = request.form['password']\n",
    "        # Check if account exists using MySQL\n",
    "        cursor = mysql.connection.cursor(MySQLdb.cursors.DictCursor)\n",
    "        cursor.execute('SELECT * FROM clevel WHERE username = %s AND password = %s', (username, password))\n",
    "        # Fetch one record and return result\n",
    "        account = cursor.fetchone()\n",
    "        # If account exists in accounts table in out database\n",
    "        if account:\n",
    "            # Create session data, we can access this data in other routes\n",
    "            session['loggedin'] = True\n",
    "            session['id'] = account['id']\n",
    "            session['username'] = account['username']\n",
    "            # Redirect to home page\n",
    "            return redirect(url_for('home'))\n",
    "        \n",
    "         #else:\n",
    "            # Account doesnt exist or username/password incorrect\n",
    "            #msg = 'Incorrect username/password!'\n",
    "            #return redirect(url_for('home'))\n",
    "        \n",
    "    # Show the login form with message (if any)\n",
    "    return render_template('login.html')"
   ]
  },
  {
   "cell_type": "code",
   "execution_count": 4,
   "metadata": {},
   "outputs": [],
   "source": [
    "@app.route('/home')\n",
    "def home():\n",
    "    # Check if user is loggedin\n",
    "    if 'loggedin' in session:\n",
    "        # User is loggedin show them the home page\n",
    "        return render_template('index.html', username=session['username'])\n",
    "    else:\n",
    "        # User is not loggedin redirect to login page\n",
    "        return redirect(url_for('login'))"
   ]
  },
  {
   "cell_type": "code",
   "execution_count": 5,
   "metadata": {},
   "outputs": [],
   "source": [
    "@app.route('/logout')\n",
    "def logout():\n",
    "    # Remove session data, this will log the user out\n",
    "    session.pop('loggedin', None)\n",
    "    session.pop('id', None)\n",
    "    session.pop('username', None)\n",
    "    # Redirect to login page\n",
    "    return redirect(url_for('login'))"
   ]
  },
  {
   "cell_type": "code",
   "execution_count": 6,
   "metadata": {},
   "outputs": [],
   "source": [
    "@app.route('/dashboard', methods=['GET', 'POST'])\n",
    "def dashboard():\n",
    "    if request.method == 'POST':\n",
    "        # do stuff when the form is submitted\n",
    "\n",
    "        # redirect to end the POST handling\n",
    "        # the redirect can be to the same route or somewhere else\n",
    "        return redirect(url_for('home'))\n",
    "\n",
    "    # show the form, it wasn't submitted\n",
    "    return render_template('dashboard.html')"
   ]
  },
  {
   "cell_type": "code",
   "execution_count": 7,
   "metadata": {},
   "outputs": [],
   "source": [
    "@app.route('/predict', methods=['GET', 'POST'])\n",
    "def predict():\n",
    "    if request.method == 'POST':\n",
    "        # do stuff when the form is submitted\n",
    "\n",
    "        # redirect to end the POST handling\n",
    "        # the redirect can be to the same route or somewhere else\n",
    "        return redirect(url_for('home'))\n",
    "\n",
    "    # show the form, it wasn't submitted\n",
    "    return render_template('predict.html')"
   ]
  },
  {
   "cell_type": "code",
   "execution_count": null,
   "metadata": {},
   "outputs": [
    {
     "name": "stdout",
     "output_type": "stream",
     "text": [
      " * Serving Flask app \"__main__\" (lazy loading)\n",
      " * Environment: production\n",
      "\u001b[31m   WARNING: This is a development server. Do not use it in a production deployment.\u001b[0m\n",
      "\u001b[2m   Use a production WSGI server instead.\u001b[0m\n",
      " * Debug mode: off\n"
     ]
    },
    {
     "name": "stderr",
     "output_type": "stream",
     "text": [
      " * Running on http://127.0.0.1:5000/ (Press CTRL+C to quit)\n"
     ]
    }
   ],
   "source": [
    "if __name__ == \"__main__\":\n",
    "    app.run()"
   ]
  }
 ],
 "metadata": {
  "kernelspec": {
   "display_name": "Python 3",
   "language": "python",
   "name": "python3"
  },
  "language_info": {
   "codemirror_mode": {
    "name": "ipython",
    "version": 3
   },
   "file_extension": ".py",
   "mimetype": "text/x-python",
   "name": "python",
   "nbconvert_exporter": "python",
   "pygments_lexer": "ipython3",
   "version": "3.7.10"
  }
 },
 "nbformat": 4,
 "nbformat_minor": 4
}
