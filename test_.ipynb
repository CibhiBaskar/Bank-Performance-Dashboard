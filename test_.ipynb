{
 "cells": [
  {
   "cell_type": "code",
   "execution_count": 1,
   "id": "fade4e9a",
   "metadata": {},
   "outputs": [],
   "source": [
    "import unittest\n",
    "\n",
    "from app import app\n",
    "\n",
    "class BasicTestCase(unittest.TestCase):\n",
    "    \n",
    "    def test_home(self):\n",
    "        tester = app.test_client(self)\n",
    "        response = tester.get('/', content_type='html/text')\n",
    "        self.assertEqual(response.status_code, 200)\n",
    "    \n",
    "    def test_dashboard(self):\n",
    "        tester = app.test_client(self)\n",
    "        response = tester.get('dashboard', content_type='html/text')\n",
    "        self.assertEqual(response.status_code, 200)\n",
    "    \n",
    "    def test_predict(self):\n",
    "        tester = app.test_client(self)\n",
    "        response = tester.get('predict', content_type='html/text')\n",
    "        self.assertEqual(response.status_code, 200)"
   ]
  },
  {
   "cell_type": "code",
   "execution_count": 2,
   "id": "e8b4b27d",
   "metadata": {},
   "outputs": [
    {
     "name": "stderr",
     "output_type": "stream",
     "text": [
      "C:\\Users\\cibhi\\anaconda3\\lib\\site-packages\\jinja2\\environment.py:119: DeprecationWarning: The 'autoescape' extension is deprecated and will be removed in Jinja 3.1. This is built in now.\n",
      "  result[extension.identifier] = extension(environment)\n",
      "C:\\Users\\cibhi\\anaconda3\\lib\\site-packages\\jinja2\\environment.py:119: DeprecationWarning: The 'with' extension is deprecated and will be removed in Jinja 3.1. This is built in now.\n",
      "  result[extension.identifier] = extension(environment)\n",
      "...\n",
      "----------------------------------------------------------------------\n",
      "Ran 3 tests in 0.054s\n",
      "\n",
      "OK\n"
     ]
    }
   ],
   "source": [
    "if __name__ == '__main__':\n",
    "    unittest.main(argv=['first-arg-is-ignored'], exit=False)"
   ]
  }
 ],
 "metadata": {
  "kernelspec": {
   "display_name": "Python 3",
   "language": "python",
   "name": "python3"
  },
  "language_info": {
   "codemirror_mode": {
    "name": "ipython",
    "version": 3
   },
   "file_extension": ".py",
   "mimetype": "text/x-python",
   "name": "python",
   "nbconvert_exporter": "python",
   "pygments_lexer": "ipython3",
   "version": "3.7.10"
  }
 },
 "nbformat": 4,
 "nbformat_minor": 5
}
