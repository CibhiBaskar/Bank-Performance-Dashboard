{
 "cells": [
  {
   "cell_type": "code",
   "execution_count": 1,
   "id": "fade4e9a",
   "metadata": {},
   "outputs": [],
   "source": [
    "import unittest\n",
    "\n",
    "from app import app\n",
    "\n",
    "class BasicTestCase(unittest.TestCase):\n",
    "    \n",
    "    # Ensure that Flask was set up correctly\n",
    "    \n",
    "    def test_dashboard_page_content(self):\n",
    "        tester = app.test_client(self)\n",
    "        response = tester.get('/dashboard', content_type='html/text')\n",
    "        self.assertEqual(response.status_code, 200)\n",
    "    \n",
    "    def test_predict_page_content(self):\n",
    "        tester = app.test_client(self)\n",
    "        response = tester.get('/predict', content_type='html/text')\n",
    "        self.assertEqual(response.status_code, 200)\n",
    "\n",
    "    def test_login_page_content(self):\n",
    "        tester = app.test_client(self)\n",
    "        response = tester.get('/', content_type='html/text')\n",
    "        self.assertEqual(response.status_code, 200)\n",
    "        self.assertTrue(b'Please Login' in response.data)\n",
    "\n",
    "    # Ensure that main page requires user login\n",
    "    \n",
    "    def test_requires_login(self):\n",
    "        tester = app.test_client(self)\n",
    "        response = tester.get('/', content_type='html/text')\n",
    "        self.assertTrue(b'Please Login' in response.data)\n",
    "        \n",
    "    # Ensure login behaves correctly given correct credentials\n",
    "    \n",
    "    def test_correct_login(self):\n",
    "        tester = app.test_client(self)\n",
    "        response = tester.post('/',\n",
    "                               data=dict(username=\"Cibhi\", password=\"cibhi123\"),\n",
    "                               follow_redirects=True\n",
    "                              )\n",
    "        self.assertIn(b'Welcome back, Cibhi!', response.data)\n",
    "        \n",
    "    # Ensure login behaves correctly given wrong credentials\n",
    "    \n",
    "    def test_wrong_login(self):\n",
    "        tester = app.test_client(self)\n",
    "        response = tester.post('/',\n",
    "                               data=dict(username=\"test\", password=\"test123\"),\n",
    "                               follow_redirects=True\n",
    "                              )\n",
    "        self.assertIn(b'Please Login', response.data)\n",
    "        \n",
    "    # Ensure logout behaves correctly after login\n",
    "        \n",
    "    def test_logout(self):\n",
    "        tester = app.test_client(self)\n",
    "        tester.post('/',\n",
    "                    data=dict(username=\"Cibhi\", password=\"cibhi123\"),\n",
    "                    follow_redirects=True\n",
    "            )\n",
    "        response = tester.get('/logout', follow_redirects=True)\n",
    "        self.assertIn(b'Please Login', response.data)"
   ]
  },
  {
   "cell_type": "code",
   "execution_count": 2,
   "id": "e8b4b27d",
   "metadata": {},
   "outputs": [
    {
     "name": "stderr",
     "output_type": "stream",
     "text": [
      "C:\\Users\\cibhi\\anaconda3\\lib\\site-packages\\flask\\json\\__init__.py:211: DeprecationWarning: Importing 'itsdangerous.json' is deprecated and will be removed in ItsDangerous 2.1. Use Python's 'json' module instead.\n",
      "  rv = _json.dumps(obj, **kwargs)\n",
      "C:\\Users\\cibhi\\anaconda3\\lib\\site-packages\\flask\\json\\__init__.py:253: DeprecationWarning: Importing 'itsdangerous.json' is deprecated and will be removed in ItsDangerous 2.1. Use Python's 'json' module instead.\n",
      "  return _json.loads(s, **kwargs)\n",
      "C:\\Users\\cibhi\\anaconda3\\lib\\site-packages\\jinja2\\environment.py:119: DeprecationWarning: The 'autoescape' extension is deprecated and will be removed in Jinja 3.1. This is built in now.\n",
      "  result[extension.identifier] = extension(environment)\n",
      "C:\\Users\\cibhi\\anaconda3\\lib\\site-packages\\jinja2\\environment.py:119: DeprecationWarning: The 'with' extension is deprecated and will be removed in Jinja 3.1. This is built in now.\n",
      "  result[extension.identifier] = extension(environment)\n",
      ".......\n",
      "----------------------------------------------------------------------\n",
      "Ran 7 tests in 0.072s\n",
      "\n",
      "OK\n"
     ]
    }
   ],
   "source": [
    "if __name__ == '__main__':\n",
    "    unittest.main(argv=['first-arg-is-ignored'], exit=False)"
   ]
  },
  {
   "cell_type": "code",
   "execution_count": null,
   "id": "c83e1a2d",
   "metadata": {},
   "outputs": [],
   "source": []
  }
 ],
 "metadata": {
  "kernelspec": {
   "display_name": "Python 3",
   "language": "python",
   "name": "python3"
  },
  "language_info": {
   "codemirror_mode": {
    "name": "ipython",
    "version": 3
   },
   "file_extension": ".py",
   "mimetype": "text/x-python",
   "name": "python",
   "nbconvert_exporter": "python",
   "pygments_lexer": "ipython3",
   "version": "3.7.10"
  }
 },
 "nbformat": 4,
 "nbformat_minor": 5
}
